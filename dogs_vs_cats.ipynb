{
  "nbformat": 4,
  "nbformat_minor": 0,
  "metadata": {
    "colab": {
      "name": "dogs-vs-cats.ipynb",
      "provenance": [],
      "mount_file_id": "1oH8yONxGBtx6ACjragrATa5UD222VkkG",
      "authorship_tag": "ABX9TyM2S8MUOl9ncpGL7cNIE3wY",
      "include_colab_link": true
    },
    "kernelspec": {
      "name": "python3",
      "display_name": "Python 3"
    },
    "language_info": {
      "name": "python"
    },
    "accelerator": "GPU"
  },
  "cells": [
    {
      "cell_type": "markdown",
      "metadata": {
        "id": "view-in-github",
        "colab_type": "text"
      },
      "source": [
        "<a href=\"https://colab.research.google.com/github/Rugved-Pandit/dogs-vs-cats-image-classification/blob/main/dogs_vs_cats.ipynb\" target=\"_parent\"><img src=\"https://colab.research.google.com/assets/colab-badge.svg\" alt=\"Open In Colab\"/></a>"
      ]
    },
    {
      "cell_type": "code",
      "execution_count": 1,
      "metadata": {
        "id": "8VGn4jAOTjF2"
      },
      "outputs": [],
      "source": [
        "#dogs vs cats image classification using resnet model"
      ]
    },
    {
      "cell_type": "code",
      "metadata": {
        "id": "gtpuHGIaMLRy"
      },
      "source": [
        "import tensorflow as tf\n",
        "import tensorflow.keras.layers as layers\n",
        "import numpy as np\n",
        "import matplotlib.pyplot as plt"
      ],
      "execution_count": 2,
      "outputs": []
    },
    {
      "cell_type": "code",
      "metadata": {
        "id": "luZiHnVEtqab",
        "colab": {
          "base_uri": "https://localhost:8080/"
        },
        "outputId": "b46878fd-3764-443c-b5c0-ef8852484cc4"
      },
      "source": [
        "#if you are using gpu then you can use this to check it\n",
        "\n",
        "%tensorflow_version 2.x\n",
        "device_name = tf.test.gpu_device_name()\n",
        "if device_name != '/device:GPU:0':\n",
        "  raise SystemError('GPU device not found')\n",
        "print('Found GPU at: {}'.format(device_name))"
      ],
      "execution_count": 3,
      "outputs": [
        {
          "output_type": "stream",
          "name": "stdout",
          "text": [
            "Found GPU at: /device:GPU:0\n"
          ]
        }
      ]
    },
    {
      "cell_type": "code",
      "metadata": {
        "id": "GawhOegdMLSG"
      },
      "source": [
        "batch_size = 32\n",
        "img_size = 320"
      ],
      "execution_count": 4,
      "outputs": []
    },
    {
      "cell_type": "code",
      "metadata": {
        "id": "93Jp2JoLMLSH",
        "colab": {
          "base_uri": "https://localhost:8080/"
        },
        "outputId": "04df3cc8-5d73-4829-fbe6-32d16bdd525b"
      },
      "source": [
        "#loading dataset. change the path to your dataset dir. \n",
        "#i have already removed some bad images which were causing problems so dataset size is only 24.5k\n",
        "\n",
        "train_ds = tf.keras.preprocessing.image_dataset_from_directory(\n",
        "    'your-dataset-path',\n",
        "    image_size = (img_size, img_size),\n",
        "    batch_size = batch_size,\n",
        "    seed=111,\n",
        "    labels=\"inferred\",\n",
        "    label_mode=\"int\",\n",
        "    validation_split=0.2,\n",
        "    subset=\"training\",\n",
        ")\n",
        "\n",
        "val_ds = tf.keras.preprocessing.image_dataset_from_directory(\n",
        "    'your-dataset-path',\n",
        "    image_size = (img_size, img_size),\n",
        "    batch_size = 1,\n",
        "    seed=111,\n",
        "    labels=\"inferred\",\n",
        "    label_mode=\"int\",\n",
        "    validation_split=0.2,\n",
        "    subset=\"validation\",\n",
        ")\n",
        "\n",
        "print(train_ds.class_names)"
      ],
      "execution_count": 5,
      "outputs": [
        {
          "output_type": "stream",
          "name": "stdout",
          "text": [
            "Found 24437 files belonging to 2 classes.\n",
            "Using 19550 files for training.\n",
            "Found 24437 files belonging to 2 classes.\n",
            "Using 4887 files for validation.\n",
            "['Cat', 'Dog']\n"
          ]
        }
      ]
    },
    {
      "cell_type": "code",
      "metadata": {
        "id": "jE6wJb5VMLSR"
      },
      "source": [
        "#normalize the dataset\n",
        "normalization_layer = tf.keras.layers.Rescaling(1./255)\n",
        "normalized_ds_train = train_ds.map(lambda xx, yy: (normalization_layer(xx), yy))\n",
        "normalized_ds_val = val_ds.map(lambda xx, yy: (normalization_layer(xx), yy))"
      ],
      "execution_count": 6,
      "outputs": []
    },
    {
      "cell_type": "code",
      "metadata": {
        "id": "PuwekwSX53nO",
        "colab": {
          "base_uri": "https://localhost:8080/"
        },
        "outputId": "deb58bc6-d67b-47a8-d05f-6406c9d7ae13"
      },
      "source": [
        "#the resnet model\n",
        "\n",
        "inputs = tf.keras.Input(shape=(img_size, img_size, 3))\n",
        "\n",
        "###layer1\n",
        "m = layers.Conv2D(32, 5)(inputs)\n",
        "m = tf.keras.activations.relu(m)\n",
        "m = layers.MaxPool2D((2, 2))(m)\n",
        "\n",
        "###res block\n",
        "res_i = layers.Conv2D(64, 3, padding='same')(m)\n",
        "m = tf.keras.activations.relu(res_i)\n",
        "\n",
        "m = layers.Conv2D(64, 3, padding='same')(m)\n",
        "m = tf.keras.activations.relu(m)\n",
        "\n",
        "m = layers.Conv2D(64, 3, padding='same')(m)\n",
        "m = m + res_i\n",
        "m = tf.keras.activations.relu(m)\n",
        "m = layers.MaxPool2D((2, 2))(m)\n",
        "###res block end\n",
        "\n",
        "###res block\n",
        "res_i = layers.Conv2D(64, 3, padding='same')(m)\n",
        "m = tf.keras.activations.relu(res_i)\n",
        "\n",
        "m = layers.Conv2D(64, 3, padding='same')(m)\n",
        "m = tf.keras.activations.relu(m)\n",
        "\n",
        "m = layers.Conv2D(64, 3, padding='same')(m)\n",
        "m = m + res_i\n",
        "m = tf.keras.activations.relu(m)\n",
        "m = layers.MaxPool2D((2, 2))(m)\n",
        "###res block end\n",
        "\n",
        "###res block\n",
        "res_i = layers.Conv2D(64, 3, padding='same')(m)\n",
        "m = tf.keras.activations.relu(res_i)\n",
        "\n",
        "m = layers.Conv2D(64, 3, padding='same')(m)\n",
        "m = tf.keras.activations.relu(m)\n",
        "\n",
        "m = layers.Conv2D(64, 3, padding='same')(m)\n",
        "m = m + res_i\n",
        "m = tf.keras.activations.relu(m)\n",
        "m = layers.MaxPool2D((2, 2))(m)\n",
        "###res block end\n",
        "\n",
        "###res block\n",
        "res_i = layers.Conv2D(64, 3, padding='same')(m)\n",
        "m = tf.keras.activations.relu(res_i)\n",
        "\n",
        "m = layers.Conv2D(64, 3, padding='same')(m)\n",
        "m = tf.keras.activations.relu(m)\n",
        "\n",
        "m = layers.Conv2D(64, 3, padding='same')(m)\n",
        "m = m + res_i\n",
        "m = tf.keras.activations.relu(m)\n",
        "m = layers.MaxPool2D((2, 2))(m)\n",
        "###res block end\n",
        "\n",
        "###res block\n",
        "res_i = layers.Conv2D(64, 3, padding='same')(m)\n",
        "m = tf.keras.activations.relu(res_i)\n",
        "\n",
        "m = layers.Conv2D(64, 3, padding='same')(m)\n",
        "m = tf.keras.activations.relu(m)\n",
        "\n",
        "m = layers.Conv2D(64, 3, padding='same')(m)\n",
        "m = m + res_i\n",
        "m = tf.keras.activations.relu(m)\n",
        "m = layers.MaxPool2D((2, 2))(m)\n",
        "###res block end\n",
        "\n",
        "m = layers.Flatten()(m)\n",
        "m = layers.Dense(128, activation='relu')(m)\n",
        "m = layers.Dropout(0.3)(m)\n",
        "\n",
        "outputs = layers.Dense(2)(m)\n",
        "\n",
        "model = tf.keras.Model(inputs=inputs, outputs=outputs)\n",
        "model.summary()"
      ],
      "execution_count": 9,
      "outputs": [
        {
          "output_type": "stream",
          "name": "stdout",
          "text": [
            "Model: \"model_1\"\n",
            "__________________________________________________________________________________________________\n",
            " Layer (type)                   Output Shape         Param #     Connected to                     \n",
            "==================================================================================================\n",
            " input_2 (InputLayer)           [(None, 320, 320, 3  0           []                               \n",
            "                                )]                                                                \n",
            "                                                                                                  \n",
            " conv2d_16 (Conv2D)             (None, 316, 316, 32  2432        ['input_2[0][0]']                \n",
            "                                )                                                                 \n",
            "                                                                                                  \n",
            " tf.nn.relu_16 (TFOpLambda)     (None, 316, 316, 32  0           ['conv2d_16[0][0]']              \n",
            "                                )                                                                 \n",
            "                                                                                                  \n",
            " max_pooling2d_6 (MaxPooling2D)  (None, 158, 158, 32  0          ['tf.nn.relu_16[0][0]']          \n",
            "                                )                                                                 \n",
            "                                                                                                  \n",
            " conv2d_17 (Conv2D)             (None, 158, 158, 64  18496       ['max_pooling2d_6[0][0]']        \n",
            "                                )                                                                 \n",
            "                                                                                                  \n",
            " tf.nn.relu_17 (TFOpLambda)     (None, 158, 158, 64  0           ['conv2d_17[0][0]']              \n",
            "                                )                                                                 \n",
            "                                                                                                  \n",
            " conv2d_18 (Conv2D)             (None, 158, 158, 64  36928       ['tf.nn.relu_17[0][0]']          \n",
            "                                )                                                                 \n",
            "                                                                                                  \n",
            " tf.nn.relu_18 (TFOpLambda)     (None, 158, 158, 64  0           ['conv2d_18[0][0]']              \n",
            "                                )                                                                 \n",
            "                                                                                                  \n",
            " conv2d_19 (Conv2D)             (None, 158, 158, 64  36928       ['tf.nn.relu_18[0][0]']          \n",
            "                                )                                                                 \n",
            "                                                                                                  \n",
            " tf.__operators__.add_5 (TFOpLa  (None, 158, 158, 64  0          ['conv2d_19[0][0]',              \n",
            " mbda)                          )                                 'conv2d_17[0][0]']              \n",
            "                                                                                                  \n",
            " tf.nn.relu_19 (TFOpLambda)     (None, 158, 158, 64  0           ['tf.__operators__.add_5[0][0]'] \n",
            "                                )                                                                 \n",
            "                                                                                                  \n",
            " max_pooling2d_7 (MaxPooling2D)  (None, 79, 79, 64)  0           ['tf.nn.relu_19[0][0]']          \n",
            "                                                                                                  \n",
            " conv2d_20 (Conv2D)             (None, 79, 79, 64)   36928       ['max_pooling2d_7[0][0]']        \n",
            "                                                                                                  \n",
            " tf.nn.relu_20 (TFOpLambda)     (None, 79, 79, 64)   0           ['conv2d_20[0][0]']              \n",
            "                                                                                                  \n",
            " conv2d_21 (Conv2D)             (None, 79, 79, 64)   36928       ['tf.nn.relu_20[0][0]']          \n",
            "                                                                                                  \n",
            " tf.nn.relu_21 (TFOpLambda)     (None, 79, 79, 64)   0           ['conv2d_21[0][0]']              \n",
            "                                                                                                  \n",
            " conv2d_22 (Conv2D)             (None, 79, 79, 64)   36928       ['tf.nn.relu_21[0][0]']          \n",
            "                                                                                                  \n",
            " tf.__operators__.add_6 (TFOpLa  (None, 79, 79, 64)  0           ['conv2d_22[0][0]',              \n",
            " mbda)                                                            'conv2d_20[0][0]']              \n",
            "                                                                                                  \n",
            " tf.nn.relu_22 (TFOpLambda)     (None, 79, 79, 64)   0           ['tf.__operators__.add_6[0][0]'] \n",
            "                                                                                                  \n",
            " max_pooling2d_8 (MaxPooling2D)  (None, 39, 39, 64)  0           ['tf.nn.relu_22[0][0]']          \n",
            "                                                                                                  \n",
            " conv2d_23 (Conv2D)             (None, 39, 39, 64)   36928       ['max_pooling2d_8[0][0]']        \n",
            "                                                                                                  \n",
            " tf.nn.relu_23 (TFOpLambda)     (None, 39, 39, 64)   0           ['conv2d_23[0][0]']              \n",
            "                                                                                                  \n",
            " conv2d_24 (Conv2D)             (None, 39, 39, 64)   36928       ['tf.nn.relu_23[0][0]']          \n",
            "                                                                                                  \n",
            " tf.nn.relu_24 (TFOpLambda)     (None, 39, 39, 64)   0           ['conv2d_24[0][0]']              \n",
            "                                                                                                  \n",
            " conv2d_25 (Conv2D)             (None, 39, 39, 64)   36928       ['tf.nn.relu_24[0][0]']          \n",
            "                                                                                                  \n",
            " tf.__operators__.add_7 (TFOpLa  (None, 39, 39, 64)  0           ['conv2d_25[0][0]',              \n",
            " mbda)                                                            'conv2d_23[0][0]']              \n",
            "                                                                                                  \n",
            " tf.nn.relu_25 (TFOpLambda)     (None, 39, 39, 64)   0           ['tf.__operators__.add_7[0][0]'] \n",
            "                                                                                                  \n",
            " max_pooling2d_9 (MaxPooling2D)  (None, 19, 19, 64)  0           ['tf.nn.relu_25[0][0]']          \n",
            "                                                                                                  \n",
            " conv2d_26 (Conv2D)             (None, 19, 19, 64)   36928       ['max_pooling2d_9[0][0]']        \n",
            "                                                                                                  \n",
            " tf.nn.relu_26 (TFOpLambda)     (None, 19, 19, 64)   0           ['conv2d_26[0][0]']              \n",
            "                                                                                                  \n",
            " conv2d_27 (Conv2D)             (None, 19, 19, 64)   36928       ['tf.nn.relu_26[0][0]']          \n",
            "                                                                                                  \n",
            " tf.nn.relu_27 (TFOpLambda)     (None, 19, 19, 64)   0           ['conv2d_27[0][0]']              \n",
            "                                                                                                  \n",
            " conv2d_28 (Conv2D)             (None, 19, 19, 64)   36928       ['tf.nn.relu_27[0][0]']          \n",
            "                                                                                                  \n",
            " tf.__operators__.add_8 (TFOpLa  (None, 19, 19, 64)  0           ['conv2d_28[0][0]',              \n",
            " mbda)                                                            'conv2d_26[0][0]']              \n",
            "                                                                                                  \n",
            " tf.nn.relu_28 (TFOpLambda)     (None, 19, 19, 64)   0           ['tf.__operators__.add_8[0][0]'] \n",
            "                                                                                                  \n",
            " max_pooling2d_10 (MaxPooling2D  (None, 9, 9, 64)    0           ['tf.nn.relu_28[0][0]']          \n",
            " )                                                                                                \n",
            "                                                                                                  \n",
            " conv2d_29 (Conv2D)             (None, 9, 9, 64)     36928       ['max_pooling2d_10[0][0]']       \n",
            "                                                                                                  \n",
            " tf.nn.relu_29 (TFOpLambda)     (None, 9, 9, 64)     0           ['conv2d_29[0][0]']              \n",
            "                                                                                                  \n",
            " conv2d_30 (Conv2D)             (None, 9, 9, 64)     36928       ['tf.nn.relu_29[0][0]']          \n",
            "                                                                                                  \n",
            " tf.nn.relu_30 (TFOpLambda)     (None, 9, 9, 64)     0           ['conv2d_30[0][0]']              \n",
            "                                                                                                  \n",
            " conv2d_31 (Conv2D)             (None, 9, 9, 64)     36928       ['tf.nn.relu_30[0][0]']          \n",
            "                                                                                                  \n",
            " tf.__operators__.add_9 (TFOpLa  (None, 9, 9, 64)    0           ['conv2d_31[0][0]',              \n",
            " mbda)                                                            'conv2d_29[0][0]']              \n",
            "                                                                                                  \n",
            " tf.nn.relu_31 (TFOpLambda)     (None, 9, 9, 64)     0           ['tf.__operators__.add_9[0][0]'] \n",
            "                                                                                                  \n",
            " max_pooling2d_11 (MaxPooling2D  (None, 4, 4, 64)    0           ['tf.nn.relu_31[0][0]']          \n",
            " )                                                                                                \n",
            "                                                                                                  \n",
            " flatten_1 (Flatten)            (None, 1024)         0           ['max_pooling2d_11[0][0]']       \n",
            "                                                                                                  \n",
            " dense_2 (Dense)                (None, 128)          131200      ['flatten_1[0][0]']              \n",
            "                                                                                                  \n",
            " dropout_1 (Dropout)            (None, 128)          0           ['dense_2[0][0]']                \n",
            "                                                                                                  \n",
            " dense_3 (Dense)                (None, 2)            258         ['dropout_1[0][0]']              \n",
            "                                                                                                  \n",
            "==================================================================================================\n",
            "Total params: 669,378\n",
            "Trainable params: 669,378\n",
            "Non-trainable params: 0\n",
            "__________________________________________________________________________________________________\n"
          ]
        }
      ]
    },
    {
      "cell_type": "code",
      "metadata": {
        "id": "475sNAEsMLSW",
        "colab": {
          "base_uri": "https://localhost:8080/"
        },
        "outputId": "d2498afd-94ac-4fc4-9838-eb5b10442501"
      },
      "source": [
        "#compile and fit the model\n",
        "model.compile(optimizer=tf.keras.optimizers.Adam(learning_rate=0.0007), loss=tf.losses.SparseCategoricalCrossentropy(from_logits=True), metrics=['accuracy'])\n",
        "history = model.fit(normalized_ds_train, validation_data=normalized_ds_val, epochs=10)"
      ],
      "execution_count": 10,
      "outputs": [
        {
          "output_type": "stream",
          "name": "stdout",
          "text": [
            "Epoch 1/10\n",
            "611/611 [==============================] - 336s 547ms/step - loss: 0.6905 - accuracy: 0.5247 - val_loss: 0.6861 - val_accuracy: 0.5388\n",
            "Epoch 2/10\n",
            "611/611 [==============================] - 333s 544ms/step - loss: 0.6731 - accuracy: 0.5785 - val_loss: 0.6346 - val_accuracy: 0.6302\n",
            "Epoch 3/10\n",
            "611/611 [==============================] - 334s 545ms/step - loss: 0.5933 - accuracy: 0.6794 - val_loss: 0.5146 - val_accuracy: 0.7479\n",
            "Epoch 4/10\n",
            "611/611 [==============================] - 333s 544ms/step - loss: 0.4901 - accuracy: 0.7641 - val_loss: 0.4388 - val_accuracy: 0.7962\n",
            "Epoch 5/10\n",
            "611/611 [==============================] - 333s 543ms/step - loss: 0.3985 - accuracy: 0.8216 - val_loss: 0.3919 - val_accuracy: 0.8253\n",
            "Epoch 6/10\n",
            "611/611 [==============================] - 333s 543ms/step - loss: 0.3331 - accuracy: 0.8566 - val_loss: 0.3475 - val_accuracy: 0.8523\n",
            "Epoch 7/10\n",
            "611/611 [==============================] - 332s 543ms/step - loss: 0.2787 - accuracy: 0.8803 - val_loss: 0.3263 - val_accuracy: 0.8664\n",
            "Epoch 8/10\n",
            "611/611 [==============================] - 333s 543ms/step - loss: 0.2330 - accuracy: 0.9008 - val_loss: 0.3400 - val_accuracy: 0.8619\n",
            "Epoch 9/10\n",
            "611/611 [==============================] - 333s 544ms/step - loss: 0.1835 - accuracy: 0.9244 - val_loss: 0.3998 - val_accuracy: 0.8572\n",
            "Epoch 10/10\n",
            "611/611 [==============================] - 334s 545ms/step - loss: 0.1503 - accuracy: 0.9394 - val_loss: 0.4325 - val_accuracy: 0.8666\n"
          ]
        }
      ]
    },
    {
      "cell_type": "code",
      "metadata": {
        "id": "_Gh38ISqNFdq",
        "colab": {
          "base_uri": "https://localhost:8080/",
          "height": 296
        },
        "outputId": "e2d50f0d-5aa2-41f1-c900-77db57ff5e60"
      },
      "source": [
        "#plotting the metrics\n",
        "\n",
        "plt.plot(history.history['accuracy'], label='accuracy')\n",
        "plt.plot(history.history['val_accuracy'], label = 'val_accuracy')\n",
        "plt.xlabel('Epoch')\n",
        "plt.ylabel('Accuracy')\n",
        "# plt.ylim([0.5, 1])\n",
        "plt.legend(loc='best')"
      ],
      "execution_count": 11,
      "outputs": [
        {
          "output_type": "execute_result",
          "data": {
            "text/plain": [
              "<matplotlib.legend.Legend at 0x7f14df1ed550>"
            ]
          },
          "metadata": {},
          "execution_count": 11
        },
        {
          "output_type": "display_data",
          "data": {
            "image/png": "[encoded data removed]",
            "text/plain": [
              "<Figure size 432x288 with 1 Axes>"
            ]
          },
          "metadata": {
            "needs_background": "light"
          }
        }
      ]
    },
    {
      "cell_type": "code",
      "metadata": {
        "id": "mQj6tgHtQa-x",
        "colab": {
          "base_uri": "https://localhost:8080/",
          "height": 296
        },
        "outputId": "da1b141b-3870-4bd7-ddb9-feb878734c34"
      },
      "source": [
        "plt.plot(history.history['loss'], label='loss')\n",
        "plt.plot(history.history['val_loss'], label = 'val_loss')\n",
        "plt.xlabel('Epoch')\n",
        "plt.ylabel('loss')\n",
        "# plt.ylim([0, 2.3])\n",
        "plt.legend(loc='best')"
      ],
      "execution_count": 12,
      "outputs": [
        {
          "output_type": "execute_result",
          "data": {
            "text/plain": [
              "<matplotlib.legend.Legend at 0x7f14ded80ed0>"
            ]
          },
          "metadata": {},
          "execution_count": 12
        },
        {
          "output_type": "display_data",
          "data": {
            "image/png": "[encoded data removed]",
            "text/plain": [
              "<Figure size 432x288 with 1 Axes>"
            ]
          },
          "metadata": {
            "needs_background": "light"
          }
        }
      ]
    },
    {
      "cell_type": "code",
      "metadata": {
        "id": "xINoYMC2j9ja",
        "colab": {
          "base_uri": "https://localhost:8080/"
        },
        "outputId": "d447f44f-3ef3-4a57-df87-eb43cb1bead3"
      },
      "source": [
        "#save the model\n",
        "# model.save('your-path/dogs-vs-cats.h5')\n",
        "\n",
        "#if you want to convert the model to tflite version for future use\n",
        "# tflite_model = tf.lite.TFLiteConverter.from_keras_model(model).convert()\n",
        "# open(\"your-path/dogs-vs-cats-tflite.tflite\", \"wb\").write(tflite_model)"
      ],
      "execution_count": 14,
      "outputs": [
        {
          "output_type": "stream",
          "name": "stdout",
          "text": [
            "INFO:tensorflow:Assets written to: /tmp/tmpzb5z2_wm/assets\n"
          ]
        },
        {
          "output_type": "stream",
          "name": "stderr",
          "text": [
            "WARNING:absl:Buffer deduplication procedure will be skipped when flatbuffer library is not properly loaded\n"
          ]
        },
        {
          "output_type": "execute_result",
          "data": {
            "text/plain": [
              "2689312"
            ]
          },
          "metadata": {},
          "execution_count": 14
        }
      ]
    },
    {
      "cell_type": "code",
      "source": [
        ""
      ],
      "metadata": {
        "id": "IN0ojr150WW7"
      },
      "execution_count": null,
      "outputs": []
    }
  ]
}